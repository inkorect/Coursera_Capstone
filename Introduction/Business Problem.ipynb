{
    "nbformat_minor": 1, 
    "cells": [
        {
            "source": "# The Battle of Neighborhoods", 
            "cell_type": "markdown", 
            "metadata": {
                "collapsed": true
            }
        }, 
        {
            "source": "The first Italian restaurants in New York, date back to the 1860s. New York has a history when it comes to Italian food and restaraunts, with a plethora of immigrants from Italy having been established there and having brought their culture as well as cousine.\n", 
            "cell_type": "markdown", 
            "metadata": {}
        }, 
        {
            "source": "## Project Description:\n\nThe aim of this project will be to decide which Neighborhood(s) of New York is more appropriate as a choose for a bussinessman to open a new Italian restaurant. \n\nUsing the Foursquare API we will find the Italian restaurants for each neighbourhood and choose the ones that have the best review score. \n\nFinally we will use these restaurants as reference points, and find the neighbourhood(s) furthest away from them is the best to open the new restaurant.\n", 
            "cell_type": "markdown", 
            "metadata": {}
        }, 
        {
            "source": "## Foursquare API:\n\nUsing the Foursquare API we will search each neighborhood for Italian restaurants, as well as their score. Due to the request limitations the limit parameter will be set to 100 and the radius parameter will be set up to 500.", 
            "cell_type": "markdown", 
            "metadata": {}
        }, 
        {
            "source": "## Clustering Analysis\n\nIn this case, since we need to ", 
            "cell_type": "markdown", 
            "metadata": {}
        }, 
        {
            "source": "", 
            "cell_type": "code", 
            "metadata": {}, 
            "outputs": [], 
            "execution_count": null
        }
    ], 
    "metadata": {
        "kernelspec": {
            "display_name": "Python 3.5", 
            "name": "python3", 
            "language": "python"
        }, 
        "language_info": {
            "mimetype": "text/x-python", 
            "nbconvert_exporter": "python", 
            "version": "3.5.5", 
            "name": "python", 
            "pygments_lexer": "ipython3", 
            "file_extension": ".py", 
            "codemirror_mode": {
                "version": 3, 
                "name": "ipython"
            }
        }
    }, 
    "nbformat": 4
}