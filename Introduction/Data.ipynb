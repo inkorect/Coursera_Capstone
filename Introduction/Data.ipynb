{
    "nbformat_minor": 1, 
    "cells": [
        {
            "source": "# The Battle of Neighborhoods", 
            "cell_type": "markdown", 
            "metadata": {
                "collapsed": true
            }
        }, 
        {
            "source": "## New York Data", 
            "cell_type": "markdown", 
            "metadata": {}
        }, 
        {
            "source": "The data we will be using, is derived from the NYU Spatial Data Repository.\n\nIt includes many features, but we will only use the Neighborhood names and their coordinates (Latitude, Longtitude).\n\nThe link to download the data is this : https://geo.nyu.edu/catalog/nyu_2451_34572", 
            "cell_type": "markdown", 
            "metadata": {}
        }, 
        {
            "source": "## Foursquare API Data ", 
            "cell_type": "markdown", 
            "metadata": {}
        }, 
        {
            "source": "We will need to find the Italian restaurants in every neighborhood. In order to get this information we will utilize the Foursquare location information. For every neighborhood, a plethora of venues will be retrieved with information such as name, coordinated, type of venue, tips, reviews and photos. Of course because of the nature of our subscription to the Foursquare API, we will not be able to retrieve all of this information, as some require premioum calls. \n\nSummarizing, the information for each venue we will get is the following:\n1. Neighborhood\n2. Neighborhood Coordinates (Lat,Lon)\n3. Venus", 
            "cell_type": "markdown", 
            "metadata": {}
        }
    ], 
    "metadata": {
        "kernelspec": {
            "display_name": "Python 3.5", 
            "name": "python3", 
            "language": "python"
        }, 
        "language_info": {
            "mimetype": "text/x-python", 
            "nbconvert_exporter": "python", 
            "version": "3.5.5", 
            "name": "python", 
            "file_extension": ".py", 
            "pygments_lexer": "ipython3", 
            "codemirror_mode": {
                "version": 3, 
                "name": "ipython"
            }
        }
    }, 
    "nbformat": 4
}