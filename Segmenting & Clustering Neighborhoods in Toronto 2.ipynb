{
    "nbformat_minor": 1, 
    "cells": [
        {
            "source": "# Segmenting and Clustering Neighborhoods in Toronto", 
            "cell_type": "markdown", 
            "metadata": {
                "collapsed": true
            }
        }, 
        {
            "source": "## This is a continuation of the first Notebook _Segmenting and Clustering Neighborhoods in Toronto_ ", 
            "cell_type": "markdown", 
            "metadata": {}
        }, 
        {
            "source": "In this Notebook we are going to enrich our Dataframe including the lon and lat of each neighborhood.\n", 
            "cell_type": "markdown", 
            "metadata": {}
        }, 
        {
            "source": "_The Dataframe constructed in the previous Notebook has been exported in a csv file for easier access_", 
            "cell_type": "markdown", 
            "metadata": {}
        }, 
        {
            "source": "import numpy as np\nimport pandas as pd\n!pip install geocoder\nimport geocoder", 
            "cell_type": "code", 
            "metadata": {}, 
            "outputs": [
                {
                    "output_type": "stream", 
                    "name": "stdout", 
                    "text": "Collecting geocoder\n\u001b[?25l  Downloading https://files.pythonhosted.org/packages/4f/6b/13166c909ad2f2d76b929a4227c952630ebaf0d729f6317eb09cbceccbab/geocoder-1.38.1-py2.py3-none-any.whl (98kB)\n\u001b[K    100% |\u2588\u2588\u2588\u2588\u2588\u2588\u2588\u2588\u2588\u2588\u2588\u2588\u2588\u2588\u2588\u2588\u2588\u2588\u2588\u2588\u2588\u2588\u2588\u2588\u2588\u2588\u2588\u2588\u2588\u2588\u2588\u2588| 102kB 12.6MB/s a 0:00:01\n\u001b[?25hCollecting ratelim (from geocoder)\n  Downloading https://files.pythonhosted.org/packages/f2/98/7e6d147fd16a10a5f821db6e25f192265d6ecca3d82957a4fdd592cad49c/ratelim-0.1.6-py2.py3-none-any.whl\nRequirement already satisfied: six in /opt/conda/envs/DSX-Python35/lib/python3.5/site-packages (from geocoder) (1.11.0)\nRequirement already satisfied: requests in /opt/conda/envs/DSX-Python35/lib/python3.5/site-packages (from geocoder) (2.18.4)\nRequirement already satisfied: future in /opt/conda/envs/DSX-Python35/lib/python3.5/site-packages (from geocoder) (0.16.0)\nRequirement already satisfied: click in /opt/conda/envs/DSX-Python35/lib/python3.5/site-packages (from geocoder) (6.7)\nRequirement already satisfied: decorator in /opt/conda/envs/DSX-Python35/lib/python3.5/site-packages (from ratelim->geocoder) (4.1.2)\nRequirement already satisfied: chardet<3.1.0,>=3.0.2 in /opt/conda/envs/DSX-Python35/lib/python3.5/site-packages (from requests->geocoder) (3.0.4)\nRequirement already satisfied: idna<2.7,>=2.5 in /opt/conda/envs/DSX-Python35/lib/python3.5/site-packages (from requests->geocoder) (2.6)\nRequirement already satisfied: urllib3<1.23,>=1.21.1 in /opt/conda/envs/DSX-Python35/lib/python3.5/site-packages (from requests->geocoder) (1.22)\nRequirement already satisfied: certifi>=2017.4.17 in /opt/conda/envs/DSX-Python35/lib/python3.5/site-packages (from requests->geocoder) (2019.3.9)\n\u001b[31mtensorflow 1.3.0 requires tensorflow-tensorboard<0.2.0,>=0.1.0, which is not installed.\u001b[0m\nInstalling collected packages: ratelim, geocoder\nSuccessfully installed geocoder-1.38.1 ratelim-0.1.6\n"
                }
            ], 
            "execution_count": 14
        }, 
        {
            "source": "toronto = pd.read_csv('data.csv')", 
            "cell_type": "code", 
            "metadata": {}, 
            "outputs": [], 
            "execution_count": 15
        }, 
        {
            "source": "We will use the function provided to find the lon,lat values from the postal codes in the dataframe", 
            "cell_type": "markdown", 
            "metadata": {}
        }, 
        {
            "source": "def get_latlng(postal_code):\n    \n    # initialize your variable to None\n    lat_lng_coords = None\n    \n    # loop until you get the coordinates\n    while(lat_lng_coords is None):\n        g = geocoder.arcgis('{}, Toronto, Ontario'.format\n                            (postal_code))\n        lat_lng_coords = g.latlng\n        \n    latitude = lat_lng_coords[0]\n    longitude = lat_lng_coords[1]\n    return latitude,longitude", 
            "cell_type": "code", 
            "metadata": {}, 
            "outputs": [], 
            "execution_count": 18
        }, 
        {
            "source": "We are going to put all the Postcodes in a list and using the function above, produce the lon,lat values. ", 
            "cell_type": "markdown", 
            "metadata": {}
        }, 
        {
            "source": "postcodes = toronto['Postcode']    \ncoords = [ get_latlng(postcode) for postcode in postcodes.tolist() ]", 
            "cell_type": "code", 
            "metadata": {}, 
            "outputs": [], 
            "execution_count": 20
        }, 
        {
            "source": "df_coords = pd.DataFrame(coords, columns=['latitude', 'longitude'])\ntoronto['Latitude'] = df_coords['latitude']\ntoronto['Longitude'] = df_coords['longitude']", 
            "cell_type": "code", 
            "metadata": {}, 
            "outputs": [], 
            "execution_count": 24
        }, 
        {
            "source": "toronto.head(10)", 
            "cell_type": "code", 
            "metadata": {}, 
            "outputs": [
                {
                    "output_type": "execute_result", 
                    "data": {
                        "text/html": "<div>\n<style scoped>\n    .dataframe tbody tr th:only-of-type {\n        vertical-align: middle;\n    }\n\n    .dataframe tbody tr th {\n        vertical-align: top;\n    }\n\n    .dataframe thead th {\n        text-align: right;\n    }\n</style>\n<table border=\"1\" class=\"dataframe\">\n  <thead>\n    <tr style=\"text-align: right;\">\n      <th></th>\n      <th>Postcode</th>\n      <th>Borough</th>\n      <th>Neighborhood</th>\n      <th>Latitude</th>\n      <th>Longitude</th>\n    </tr>\n  </thead>\n  <tbody>\n    <tr>\n      <th>0</th>\n      <td>M1B</td>\n      <td>Scarborough</td>\n      <td>Rouge, Malvern</td>\n      <td>43.811525</td>\n      <td>-79.195517</td>\n    </tr>\n    <tr>\n      <th>1</th>\n      <td>M1C</td>\n      <td>Scarborough</td>\n      <td>Highland Creek, Rouge Hill, Port Union</td>\n      <td>43.785730</td>\n      <td>-79.158750</td>\n    </tr>\n    <tr>\n      <th>2</th>\n      <td>M1E</td>\n      <td>Scarborough</td>\n      <td>Guildwood, Morningside, West Hill</td>\n      <td>43.765690</td>\n      <td>-79.175256</td>\n    </tr>\n    <tr>\n      <th>3</th>\n      <td>M1G</td>\n      <td>Scarborough</td>\n      <td>Woburn</td>\n      <td>43.768359</td>\n      <td>-79.217590</td>\n    </tr>\n    <tr>\n      <th>4</th>\n      <td>M1H</td>\n      <td>Scarborough</td>\n      <td>Cedarbrae</td>\n      <td>43.769688</td>\n      <td>-79.239440</td>\n    </tr>\n    <tr>\n      <th>5</th>\n      <td>M1J</td>\n      <td>Scarborough</td>\n      <td>Scarborough Village</td>\n      <td>43.743125</td>\n      <td>-79.231750</td>\n    </tr>\n    <tr>\n      <th>6</th>\n      <td>M1K</td>\n      <td>Scarborough</td>\n      <td>East Birchmount Park, Ionview, Kennedy Park</td>\n      <td>43.726245</td>\n      <td>-79.263670</td>\n    </tr>\n    <tr>\n      <th>7</th>\n      <td>M1L</td>\n      <td>Scarborough</td>\n      <td>Clairlea, Golden Mile, Oakridge</td>\n      <td>43.713133</td>\n      <td>-79.285055</td>\n    </tr>\n    <tr>\n      <th>8</th>\n      <td>M1M</td>\n      <td>Scarborough</td>\n      <td>Cliffcrest, Cliffside, Scarborough Village West</td>\n      <td>43.723575</td>\n      <td>-79.234976</td>\n    </tr>\n    <tr>\n      <th>9</th>\n      <td>M1N</td>\n      <td>Scarborough</td>\n      <td>Birch Cliff, Cliffside West</td>\n      <td>43.696665</td>\n      <td>-79.260163</td>\n    </tr>\n  </tbody>\n</table>\n</div>", 
                        "text/plain": "  Postcode      Borough                                     Neighborhood  \\\n0      M1B  Scarborough                                   Rouge, Malvern   \n1      M1C  Scarborough           Highland Creek, Rouge Hill, Port Union   \n2      M1E  Scarborough                Guildwood, Morningside, West Hill   \n3      M1G  Scarborough                                           Woburn   \n4      M1H  Scarborough                                        Cedarbrae   \n5      M1J  Scarborough                              Scarborough Village   \n6      M1K  Scarborough      East Birchmount Park, Ionview, Kennedy Park   \n7      M1L  Scarborough                  Clairlea, Golden Mile, Oakridge   \n8      M1M  Scarborough  Cliffcrest, Cliffside, Scarborough Village West   \n9      M1N  Scarborough                      Birch Cliff, Cliffside West   \n\n    Latitude  Longitude  \n0  43.811525 -79.195517  \n1  43.785730 -79.158750  \n2  43.765690 -79.175256  \n3  43.768359 -79.217590  \n4  43.769688 -79.239440  \n5  43.743125 -79.231750  \n6  43.726245 -79.263670  \n7  43.713133 -79.285055  \n8  43.723575 -79.234976  \n9  43.696665 -79.260163  "
                    }, 
                    "execution_count": 36, 
                    "metadata": {}
                }
            ], 
            "execution_count": 36
        }, 
        {
            "source": "As we can see, all values have been placed respectively", 
            "cell_type": "markdown", 
            "metadata": {}
        }
    ], 
    "metadata": {
        "kernelspec": {
            "display_name": "Python 3.5", 
            "name": "python3", 
            "language": "python"
        }, 
        "language_info": {
            "mimetype": "text/x-python", 
            "nbconvert_exporter": "python", 
            "version": "3.5.5", 
            "name": "python", 
            "file_extension": ".py", 
            "pygments_lexer": "ipython3", 
            "codemirror_mode": {
                "version": 3, 
                "name": "ipython"
            }
        }
    }, 
    "nbformat": 4
}